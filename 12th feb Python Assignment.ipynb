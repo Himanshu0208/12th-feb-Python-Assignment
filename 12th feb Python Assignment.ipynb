{
 "cells": [
  {
   "cell_type": "markdown",
   "id": "046706fd-c655-4241-990f-5c97ebcbc450",
   "metadata": {},
   "source": [
    "# __Ques1__\n",
    "__Exception__ in Python is an event that occurs during the execution of a program that disrupts the normal flow of the program's instructions. When an exception occurs, Python creates an exception object and raises it, which causes the program to terminate unless the exception is handled by the program, Examples of Exception include missing ZeroDivisionError , FileNotFoundError etc.<br>\n",
    "__Syntax Error__ is an error that occurs when the Python interpreter cannot understand the program because the program violates the rules of the Python language. Syntax errors are detected by the Python interpreter when it tries to compile the program, and they prevent the program from running. Examples of syntax errors include missing parentheses, invalid syntax, and incorrect indentation."
   ]
  },
  {
   "cell_type": "markdown",
   "id": "496a0185-36ea-4b14-b423-312a28105f49",
   "metadata": {},
   "source": [
    "# __Ques2__\n",
    "If exception is not hnadeled than it will stop python from running."
   ]
  },
  {
   "cell_type": "code",
   "execution_count": 1,
   "id": "b7f688fc-7ea8-4747-82ec-c341e2291248",
   "metadata": {},
   "outputs": [
    {
     "ename": "ZeroDivisionError",
     "evalue": "division by zero",
     "output_type": "error",
     "traceback": [
      "\u001b[0;31m---------------------------------------------------------------------------\u001b[0m",
      "\u001b[0;31mZeroDivisionError\u001b[0m                         Traceback (most recent call last)",
      "Cell \u001b[0;32mIn[1], line 1\u001b[0m\n\u001b[0;32m----> 1\u001b[0m a \u001b[38;5;241m=\u001b[39m \u001b[38;5;241;43m10\u001b[39;49m\u001b[38;5;241;43m/\u001b[39;49m\u001b[38;5;241;43m0\u001b[39;49m\n\u001b[1;32m      2\u001b[0m \u001b[38;5;28mprint\u001b[39m(\u001b[38;5;124m'\u001b[39m\u001b[38;5;124mHello\u001b[39m\u001b[38;5;124m'\u001b[39m)\n",
      "\u001b[0;31mZeroDivisionError\u001b[0m: division by zero"
     ]
    }
   ],
   "source": [
    "a = 10/0\n",
    "print('Hello')"
   ]
  },
  {
   "cell_type": "markdown",
   "id": "879e889d-94b5-422d-9c84-794b25587321",
   "metadata": {},
   "source": [
    "# __Ques3__\n",
    "__except__ statements ar eused to catch and handel error"
   ]
  },
  {
   "cell_type": "code",
   "execution_count": 3,
   "id": "14513ab5-67c1-454a-965e-c91954737990",
   "metadata": {},
   "outputs": [],
   "source": [
    "import logging as logs\n",
    "logs.basicConfig(filename='output.log' , level=logs.INFO)"
   ]
  },
  {
   "cell_type": "code",
   "execution_count": 2,
   "id": "feaa4b9f-2402-46ae-b821-c8b892d6a8a9",
   "metadata": {},
   "outputs": [
    {
     "name": "stdout",
     "output_type": "stream",
     "text": [
      "division by zero\n"
     ]
    }
   ],
   "source": [
    "try :\n",
    "    a = 10 / 0\n",
    "except ZeroDivisionError as e:\n",
    "    logs.error(e)\n",
    "    print(e)"
   ]
  },
  {
   "cell_type": "markdown",
   "id": "8340bf48-9727-4021-ae52-38a0a1e198b6",
   "metadata": {},
   "source": [
    "# __Ques4__"
   ]
  },
  {
   "cell_type": "markdown",
   "id": "b69db378-5ecf-4db3-89bc-cbfe7b7b1e4b",
   "metadata": {},
   "source": [
    "### __try and else__\n",
    "__try__ : These statemnts are tried to run and if any exception occurse then they are catched by except <br>\n",
    "__else__ : Only if try get runned successfuly then these statements are runned"
   ]
  },
  {
   "cell_type": "code",
   "execution_count": 3,
   "id": "9f8ac66f-98da-4d09-803e-7b706bb98389",
   "metadata": {},
   "outputs": [
    {
     "name": "stdout",
     "output_type": "stream",
     "text": [
      "division by zero\n"
     ]
    }
   ],
   "source": [
    "try :\n",
    "    a = 10 / 0\n",
    "except ZeroDivisionError as e:\n",
    "    logs.error(e)\n",
    "    print(e)\n",
    "else :\n",
    "    logs.info('Try runned successfully')\n",
    "    print('Try runned successfully')"
   ]
  },
  {
   "cell_type": "code",
   "execution_count": 4,
   "id": "60c2d94d-7202-423f-af38-e10d846f0c2e",
   "metadata": {},
   "outputs": [
    {
     "name": "stdout",
     "output_type": "stream",
     "text": [
      "Try runned successfully\n"
     ]
    }
   ],
   "source": [
    "try :\n",
    "    a = 10 / 1\n",
    "except ZeroDivisionError as e:\n",
    "    logs.error(e)\n",
    "    print(e)\n",
    "else :\n",
    "    logs.info('Try runned successfully')\n",
    "    print('Try runned successfully')"
   ]
  },
  {
   "cell_type": "markdown",
   "id": "1521a429-6f9a-4396-a810-9f1b7b558c45",
   "metadata": {},
   "source": [
    "### __finally__\n",
    "__finally__ : the code inside this will always run even if try will get completed succefully "
   ]
  },
  {
   "cell_type": "code",
   "execution_count": 5,
   "id": "51f8a30f-3e1b-4eae-a2a1-1f52f7b2376d",
   "metadata": {},
   "outputs": [
    {
     "name": "stdout",
     "output_type": "stream",
     "text": [
      "division by zero\n",
      "finally\n"
     ]
    }
   ],
   "source": [
    "try :\n",
    "    a = 10 / 0\n",
    "except ZeroDivisionError as e:\n",
    "    logs.error(e)\n",
    "    print(e)\n",
    "finally :\n",
    "    logs.info('finally')\n",
    "    print('finally')"
   ]
  },
  {
   "cell_type": "code",
   "execution_count": 6,
   "id": "781b4350-0f59-4f7a-831a-22c0d41e3516",
   "metadata": {},
   "outputs": [
    {
     "name": "stdout",
     "output_type": "stream",
     "text": [
      "finally\n"
     ]
    }
   ],
   "source": [
    "try :\n",
    "    a = 10 / 2\n",
    "except ZeroDivisionError as e:\n",
    "    logs.error(e)\n",
    "    print(e)\n",
    "finally :\n",
    "    logs.info('finally')\n",
    "    print('finally')"
   ]
  },
  {
   "cell_type": "markdown",
   "id": "8e948742-1c7e-4efb-b7af-d45ed2857d4d",
   "metadata": {},
   "source": [
    "### __raise__\n",
    "__raise__ : these are used to raise a custom error"
   ]
  },
  {
   "cell_type": "code",
   "execution_count": 10,
   "id": "e855410c-fce9-45c0-8f73-7be907f9a51f",
   "metadata": {},
   "outputs": [],
   "source": [
    "class ValidateAge(Exception) :\n",
    "    \n",
    "    def __init__(self , msg) :\n",
    "        self.msg = msg\n",
    "        \n",
    "def validateAge(age):\n",
    "    if age < 0:\n",
    "        raise ValidateAge('Entered age is negative')\n",
    "    elif age > 200:\n",
    "        raise ValidateAge('Entered age is very very high')\n",
    "    else :\n",
    "        logs.info('Age is valid')"
   ]
  },
  {
   "cell_type": "code",
   "execution_count": 12,
   "id": "db48a7f8-d083-43f8-ac7a-0f371b83578a",
   "metadata": {},
   "outputs": [
    {
     "name": "stdin",
     "output_type": "stream",
     "text": [
      "Enter your age -1\n"
     ]
    },
    {
     "name": "stdout",
     "output_type": "stream",
     "text": [
      "Enterd age is  -1\n",
      "Entered age is negative\n"
     ]
    }
   ],
   "source": [
    "try :\n",
    "    age = int(input('Enter your age'))\n",
    "    logs.info('Entered age is {a}'.format(a = age))\n",
    "    print('Enterd age is ' , age)\n",
    "    validateAge(age)\n",
    "except ValidateAge as e:\n",
    "    logs.error(e)\n",
    "    print(e)"
   ]
  },
  {
   "cell_type": "markdown",
   "id": "75f215a7-44f3-42c6-9312-baeecc27353c",
   "metadata": {},
   "source": [
    "# __Ques5__\n",
    "__Custom Excetion__ are those exceptio which are not bultin and are defined by the useer, if a user want to give an exception according to the user needs.\n",
    "<br>\n",
    "They are needed because many times there is a case which we have to treat as exception but they are not really exceptions"
   ]
  },
  {
   "cell_type": "code",
   "execution_count": 1,
   "id": "a3568d82-236e-4607-a1a4-17cd51ed7449",
   "metadata": {},
   "outputs": [],
   "source": [
    "class ValidateAge(Exception) :\n",
    "    \n",
    "    def __init__(self , msg) :\n",
    "        self.msg = msg\n",
    "        \n",
    "def validateAge(age):\n",
    "    if age < 0:\n",
    "        raise ValidateAge('Entered age is negative')\n",
    "    elif age > 200:\n",
    "        raise ValidateAge('Entered age is very very high')\n",
    "    else :\n",
    "        logs.info('Age is valid')"
   ]
  },
  {
   "cell_type": "code",
   "execution_count": 4,
   "id": "500851d4-935f-49ab-bc85-727e8f0948ce",
   "metadata": {},
   "outputs": [
    {
     "name": "stdin",
     "output_type": "stream",
     "text": [
      "Enter your age -1\n"
     ]
    },
    {
     "name": "stdout",
     "output_type": "stream",
     "text": [
      "Enterd age is  -1\n",
      "Entered age is negative\n"
     ]
    }
   ],
   "source": [
    "try :\n",
    "    age = int(input('Enter your age'))\n",
    "    logs.info('Entered age is {a}'.format(a = age))\n",
    "    print('Enterd age is ' , age)\n",
    "    validateAge(age)\n",
    "except ValidateAge as e:\n",
    "    logs.error(e)\n",
    "    print(e)"
   ]
  },
  {
   "cell_type": "markdown",
   "id": "8a6825e1-ec5b-4155-8f34-fb6e0c3312fa",
   "metadata": {},
   "source": [
    "# __Ques6__"
   ]
  },
  {
   "cell_type": "code",
   "execution_count": 5,
   "id": "3e1039f8-b603-4232-bec4-af5401a9899a",
   "metadata": {},
   "outputs": [],
   "source": [
    "class Positive(Exception):\n",
    "    \n",
    "    def __init__(self , msg):\n",
    "        self.msg = msg \n",
    "\n",
    "def validatePositiveNumber(number):\n",
    "    if number < 0 :\n",
    "        raise Positive('The number is not positive')\n",
    "    else :\n",
    "        logs.info('Number is positive')"
   ]
  },
  {
   "cell_type": "code",
   "execution_count": 7,
   "id": "b8d60461-3ef0-40e2-9c53-163ffad625ec",
   "metadata": {},
   "outputs": [
    {
     "name": "stdin",
     "output_type": "stream",
     "text": [
      "Enter the number -1\n"
     ]
    },
    {
     "name": "stdout",
     "output_type": "stream",
     "text": [
      "Numbered entered is -1\n",
      "The number is not positive\n"
     ]
    }
   ],
   "source": [
    "try :\n",
    "    num = int(input('Enter the number'))\n",
    "    print('Numbered entered is' , num)\n",
    "    validatePositiveNumber(num)\n",
    "except Positive as e:\n",
    "    print(e)"
   ]
  }
 ],
 "metadata": {
  "kernelspec": {
   "display_name": "Python 3 (ipykernel)",
   "language": "python",
   "name": "python3"
  },
  "language_info": {
   "codemirror_mode": {
    "name": "ipython",
    "version": 3
   },
   "file_extension": ".py",
   "mimetype": "text/x-python",
   "name": "python",
   "nbconvert_exporter": "python",
   "pygments_lexer": "ipython3",
   "version": "3.10.8"
  }
 },
 "nbformat": 4,
 "nbformat_minor": 5
}
